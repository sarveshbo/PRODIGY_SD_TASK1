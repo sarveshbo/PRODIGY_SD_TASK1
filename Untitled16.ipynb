{
  "nbformat": 4,
  "nbformat_minor": 0,
  "metadata": {
    "colab": {
      "provenance": []
    },
    "kernelspec": {
      "name": "python3",
      "display_name": "Python 3"
    },
    "language_info": {
      "name": "python"
    }
  },
  "cells": [
    {
      "cell_type": "code",
      "source": [
        "def convert_temperature(value, unit):\n",
        "    unit = unit.lower()\n",
        "\n",
        "    if unit in [\"celsius\", \"c\"]:\n",
        "        celsius = value\n",
        "        fahrenheit = (value * 9/5) + 32\n",
        "        kelvin = value + 273.15\n",
        "    elif unit in [\"fahrenheit\", \"f\"]:\n",
        "        celsius = (value - 32) * 5/9\n",
        "        fahrenheit = value\n",
        "        kelvin = (value - 32) * 5/9 + 273.15\n",
        "    elif unit in [\"kelvin\", \"k\"]:\n",
        "        celsius = value - 273.15\n",
        "        fahrenheit = (value - 273.15) * 9/5 + 32\n",
        "        kelvin = value\n",
        "    else:\n",
        "        print(\"Invalid unit. Please enter C, F, or K.\")\n",
        "        return\n",
        "\n",
        "    print(f\"\\nConverted Temperatures:\")\n",
        "    print(f\"Celsius: {celsius:.2f}°C\")\n",
        "    print(f\"Fahrenheit: {fahrenheit:.2f}°F\")\n",
        "    print(f\"Kelvin: {kelvin:.2f}K\")\n",
        "\n",
        "if __name__ == \"__main__\":\n",
        "    try:\n",
        "        temp_value = float(input(\"Enter temperature value: \"))\n",
        "        temp_unit = input(\"Enter unit (C, F, K): \")\n",
        "        convert_temperature(temp_value, temp_unit)\n",
        "    except ValueError:\n",
        "        print(\"Please enter a valid number.\")"
      ],
      "metadata": {
        "colab": {
          "base_uri": "https://localhost:8080/",
          "height": 0
        },
        "id": "gRwls40tw6ml",
        "outputId": "1d7ce571-6566-4c05-b64b-8cb078b7ae75"
      },
      "execution_count": 10,
      "outputs": [
        {
          "output_type": "stream",
          "name": "stdout",
          "text": [
            "Enter temperature value: 89\n",
            "Enter unit (C, F, K): k\n",
            "\n",
            "Converted Temperatures:\n",
            "Celsius: -184.15°C\n",
            "Fahrenheit: -299.47°F\n",
            "Kelvin: 89.00K\n"
          ]
        }
      ]
    }
  ]
}